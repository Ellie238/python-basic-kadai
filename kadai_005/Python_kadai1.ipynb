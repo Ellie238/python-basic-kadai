{
  "nbformat": 4,
  "nbformat_minor": 0,
  "metadata": {
    "colab": {
      "provenance": []
    },
    "kernelspec": {
      "name": "python3",
      "display_name": "Python 3"
    },
    "language_info": {
      "name": "python"
    }
  },
  "cells": [
    {
      "cell_type": "code",
      "execution_count": 6,
      "metadata": {
        "colab": {
          "base_uri": "https://localhost:8080/"
        },
        "id": "S02bpfN82ASp",
        "outputId": "756bc6ff-be2c-4409-9832-72333c626495"
      },
      "outputs": [
        {
          "output_type": "stream",
          "name": "stdout",
          "text": [
            "75.0cm²\n"
          ]
        }
      ],
      "source": [
        "up = 10\n",
        "down = 20\n",
        "high = 5\n",
        "\n",
        "number = ((up + down) * high / 2)\n",
        "print(str(number) + \"cm²\")"
      ]
    },
    {
      "cell_type": "code",
      "source": [],
      "metadata": {
        "id": "yBd75u5j4KLM"
      },
      "execution_count": null,
      "outputs": []
    }
  ]
}