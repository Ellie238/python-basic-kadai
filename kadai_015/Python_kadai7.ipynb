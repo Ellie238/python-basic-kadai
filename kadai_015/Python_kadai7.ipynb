{
  "nbformat": 4,
  "nbformat_minor": 0,
  "metadata": {
    "colab": {
      "provenance": []
    },
    "kernelspec": {
      "name": "python3",
      "display_name": "Python 3"
    },
    "language_info": {
      "name": "python"
    }
  },
  "cells": [
    {
      "cell_type": "code",
      "execution_count": 5,
      "metadata": {
        "colab": {
          "base_uri": "https://localhost:8080/"
        },
        "id": "CFSLufP_u5kJ",
        "outputId": "d7ede441-0059-4419-d5b2-0a4309b380ea"
      },
      "outputs": [
        {
          "output_type": "stream",
          "name": "stdout",
          "text": [
            "侍太郎 36\n"
          ]
        }
      ],
      "source": [
        "'''\n",
        "クラス：Human（犬）\n",
        "　→オブジェクト：変数（ポチ）\n",
        "　　→属性：name, age（柴犬）\n",
        "　　→メソッド：printinfo（食べる）\n",
        "'''\n",
        "\n",
        "\n",
        "class Human:\n",
        "  # コンストラクタ＆属性を定義する\n",
        "  def __init__(self, name, age):\n",
        "    self.name = name\n",
        "    self.age = age\n",
        "\n",
        "  # メソッド（属性の値を出力）\n",
        "  def printinfo(self):\n",
        "    print(self.name, self.age)\n",
        "\n",
        "# インスタンス化\n",
        "man = Human(\"侍太郎\", 36)\n",
        "\n",
        "man.printinfo()"
      ]
    }
  ]
}