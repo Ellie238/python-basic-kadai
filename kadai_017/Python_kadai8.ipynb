{
  "nbformat": 4,
  "nbformat_minor": 0,
  "metadata": {
    "colab": {
      "provenance": []
    },
    "kernelspec": {
      "name": "python3",
      "display_name": "Python 3"
    },
    "language_info": {
      "name": "python"
    }
  },
  "cells": [
    {
      "cell_type": "code",
      "source": [
        "'''\n",
        "クラス：Human\n",
        "→オブジェクト：変数\n",
        "　→属性：name, age\n",
        "　→メソッド：check_adult\n",
        "\n",
        "リスト：\n",
        "human_names = [\"銀時\", \"新八\", \"神楽\", \"土方\", \"沖田\"]\n",
        "human_ages = [29, 18, 16, 29, 20]\n",
        "\n",
        "# すべての要素を取り出して表示する\n",
        "print(user_names)\n",
        "\n",
        "age >= 20, age <= 20\n",
        "\n",
        "'''\n",
        "\n",
        "class Human:\n",
        "  # コンストラクタ＆属性を定義する\n",
        "  def __init__(self, name, age):\n",
        "    self.name = name\n",
        "    self.age = age\n",
        "\n",
        "  # メソッド（属性の値を出力）\n",
        "  def check_adult(self):\n",
        "\n",
        "    # ageが20以上であれば、adult（大人）\n",
        "    if self.age >= 20:\n",
        "      print(f\"{self.name}は大人です。\")\n",
        "\n",
        "     # それ以外\n",
        "    else:\n",
        "      print(f\"{self.name}は子どもです。\")\n",
        "\n",
        "# インスタンス化\n",
        "man1 = Human(\"銀時\", 29)\n",
        "man2 = Human(\"新八\", 18)\n",
        "girl1 = Human(\"神楽\", 16)\n",
        "man3 = Human(\"土方\", 29)\n",
        "man4 = Human(\"沖田\", 20)\n",
        "\n",
        "# リスト化\n",
        "human_list = [man1, man2, girl1, man3, man4]\n",
        "\n",
        "# 繰り返し処理for\n",
        "for data in human_list:\n",
        "  data.check_adult()\n"
      ],
      "metadata": {
        "colab": {
          "base_uri": "https://localhost:8080/"
        },
        "id": "FRA2XyhWRNoG",
        "outputId": "7959f4fe-986d-45a3-80be-d978b3e5a780"
      },
      "execution_count": 4,
      "outputs": [
        {
          "output_type": "stream",
          "name": "stdout",
          "text": [
            "銀時は大人です。\n",
            "新八は子どもです。\n",
            "神楽は子どもです。\n",
            "土方は大人です。\n",
            "沖田は大人です。\n"
          ]
        }
      ]
    }
  ]
}