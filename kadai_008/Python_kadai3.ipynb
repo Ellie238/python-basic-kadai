{
  "nbformat": 4,
  "nbformat_minor": 0,
  "metadata": {
    "colab": {
      "provenance": []
    },
    "kernelspec": {
      "name": "python3",
      "display_name": "Python 3"
    },
    "language_info": {
      "name": "python"
    }
  },
  "cells": [
    {
      "cell_type": "code",
      "execution_count": 93,
      "metadata": {
        "colab": {
          "base_uri": "https://localhost:8080/"
        },
        "id": "4HaFcrAmv0Ti",
        "outputId": "93b7871c-8619-4c7c-8bde-98eac639221c"
      },
      "outputs": [
        {
          "output_type": "stream",
          "name": "stdout",
          "text": [
            "30\n",
            "FizzBuzz\n"
          ]
        }
      ],
      "source": [
        "import random\n",
        "\n",
        "var = random.randint(0,30)\n",
        "\n",
        "print(var)\n",
        "\n",
        "if var % 3 == 0 and var % 5 == 0:\n",
        "   print(\"FizzBuzz\")\n",
        "elif var % 3 == 0:\n",
        "   print(\"Fizz\")\n",
        "elif var % 5 == 0:\n",
        "   print(\"Buzz\")\n",
        "else:\n",
        "   print(var)"
      ]
    }
  ]
}