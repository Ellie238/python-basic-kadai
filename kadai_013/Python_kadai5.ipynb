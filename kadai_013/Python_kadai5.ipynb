{
  "nbformat": 4,
  "nbformat_minor": 0,
  "metadata": {
    "colab": {
      "provenance": []
    },
    "kernelspec": {
      "name": "python3",
      "display_name": "Python 3"
    },
    "language_info": {
      "name": "python"
    }
  },
  "cells": [
    {
      "cell_type": "code",
      "execution_count": 12,
      "metadata": {
        "colab": {
          "base_uri": "https://localhost:8080/"
        },
        "id": "0B0pRJYRTjXX",
        "outputId": "7af27a7e-720d-4ff3-a311-186d4575ec62"
      },
      "outputs": [
        {
          "output_type": "execute_result",
          "data": {
            "text/plain": [
              "121.0"
            ]
          },
          "metadata": {},
          "execution_count": 12
        }
      ],
      "source": [
        "def results(price, tax_percentage):\n",
        "\n",
        "    tax = price * (tax_percentage / 100)\n",
        "\n",
        "    total = price + tax\n",
        "    return total\n",
        "\n",
        "results(110, 10)"
      ]
    }
  ]
}